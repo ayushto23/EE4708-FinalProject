{
 "cells": [
  {
   "cell_type": "code",
   "execution_count": 1,
   "metadata": {},
   "outputs": [],
   "source": [
    "import pandas as pd"
   ]
  },
  {
   "cell_type": "code",
   "execution_count": 2,
   "metadata": {},
   "outputs": [],
   "source": [
    "import matplotlib.pyplot as plt\n",
    "import glob"
   ]
  },
  {
   "cell_type": "markdown",
   "metadata": {},
   "source": [
    "**Character 0**"
   ]
  },
  {
   "cell_type": "code",
   "execution_count": 3,
   "metadata": {},
   "outputs": [],
   "source": [
    "path = r'C:\\Users\\AYUSH\\Desktop\\Sem 7\\EE4708\\final_project\\Training Dataset\\character_0'# use your path\n",
    "all_files = glob.glob(path + \"/*.csv\")"
   ]
  },
  {
   "cell_type": "code",
   "execution_count": 4,
   "metadata": {},
   "outputs": [],
   "source": [
    "data = []\n",
    "for file in all_files:\n",
    "    char = pd.read_csv(file, header=None)\n",
    "    char = char.fillna(char.mean())\n",
    "    x = char.values.ravel()\n",
    "    data.append(x)"
   ]
  },
  {
   "cell_type": "code",
   "execution_count": 5,
   "metadata": {},
   "outputs": [],
   "source": [
    "df_zero = pd.DataFrame(data)\n",
    "df_zero['label'] = [0]*1000"
   ]
  },
  {
   "cell_type": "markdown",
   "metadata": {},
   "source": [
    "**Character 1**"
   ]
  },
  {
   "cell_type": "code",
   "execution_count": 6,
   "metadata": {},
   "outputs": [],
   "source": [
    "path = r'C:\\Users\\AYUSH\\Desktop\\Sem 7\\EE4708\\final_project\\Training Dataset\\character_1'# use your path\n",
    "all_files = glob.glob(path + \"/*.csv\")"
   ]
  },
  {
   "cell_type": "code",
   "execution_count": 7,
   "metadata": {},
   "outputs": [],
   "source": [
    "data = []\n",
    "for file in all_files:\n",
    "    char = pd.read_csv(file, header=None)\n",
    "    char = char.fillna(char.mean())\n",
    "    x = char.values.ravel()\n",
    "    data.append(x)"
   ]
  },
  {
   "cell_type": "code",
   "execution_count": 8,
   "metadata": {},
   "outputs": [],
   "source": [
    "df_one = pd.DataFrame(data)\n",
    "df_one['label'] = [1]*1000"
   ]
  },
  {
   "cell_type": "markdown",
   "metadata": {},
   "source": [
    "**Character 2**"
   ]
  },
  {
   "cell_type": "code",
   "execution_count": 9,
   "metadata": {},
   "outputs": [],
   "source": [
    "path = r'C:\\Users\\AYUSH\\Desktop\\Sem 7\\EE4708\\final_project\\Training Dataset\\character_2'# use your path\n",
    "all_files = glob.glob(path + \"/*.csv\")"
   ]
  },
  {
   "cell_type": "code",
   "execution_count": 10,
   "metadata": {},
   "outputs": [],
   "source": [
    "data = []\n",
    "for file in all_files:\n",
    "    char = pd.read_csv(file, header=None)\n",
    "    char = char.fillna(char.mean())\n",
    "    x = char.values.ravel()\n",
    "    data.append(x)"
   ]
  },
  {
   "cell_type": "code",
   "execution_count": 11,
   "metadata": {},
   "outputs": [],
   "source": [
    "df_two = pd.DataFrame(data)\n",
    "df_two['label'] = [2]*1000"
   ]
  },
  {
   "cell_type": "markdown",
   "metadata": {},
   "source": [
    "**Character 3**"
   ]
  },
  {
   "cell_type": "code",
   "execution_count": 12,
   "metadata": {},
   "outputs": [],
   "source": [
    "path = r'C:\\Users\\AYUSH\\Desktop\\Sem 7\\EE4708\\final_project\\Training Dataset\\character_3'# use your path\n",
    "all_files = glob.glob(path + \"/*.csv\")"
   ]
  },
  {
   "cell_type": "code",
   "execution_count": 13,
   "metadata": {},
   "outputs": [],
   "source": [
    "data = []\n",
    "for file in all_files:\n",
    "    char = pd.read_csv(file, header=None)\n",
    "    char = char.fillna(char.mean())\n",
    "    x = char.values.ravel()\n",
    "    data.append(x)"
   ]
  },
  {
   "cell_type": "code",
   "execution_count": 14,
   "metadata": {},
   "outputs": [],
   "source": [
    "df_three = pd.DataFrame(data)\n",
    "df_three['label'] = [3]*1000"
   ]
  },
  {
   "cell_type": "markdown",
   "metadata": {},
   "source": [
    "**Character 4**"
   ]
  },
  {
   "cell_type": "code",
   "execution_count": 15,
   "metadata": {},
   "outputs": [],
   "source": [
    "path = r'C:\\Users\\AYUSH\\Desktop\\Sem 7\\EE4708\\final_project\\Training Dataset\\character_4'# use your path\n",
    "all_files = glob.glob(path + \"/*.csv\")"
   ]
  },
  {
   "cell_type": "code",
   "execution_count": 16,
   "metadata": {},
   "outputs": [],
   "source": [
    "data = []\n",
    "for file in all_files:\n",
    "    char = pd.read_csv(file, header=None)\n",
    "    char = char.fillna(char.mean())\n",
    "    x = char.values.ravel()\n",
    "    data.append(x)"
   ]
  },
  {
   "cell_type": "code",
   "execution_count": 17,
   "metadata": {},
   "outputs": [],
   "source": [
    "df_four = pd.DataFrame(data)\n",
    "df_four['label'] = [4]*1000"
   ]
  },
  {
   "cell_type": "markdown",
   "metadata": {},
   "source": [
    "**Character 5**"
   ]
  },
  {
   "cell_type": "code",
   "execution_count": 18,
   "metadata": {},
   "outputs": [],
   "source": [
    "path = r'C:\\Users\\AYUSH\\Desktop\\Sem 7\\EE4708\\final_project\\Training Dataset\\character_5'# use your path\n",
    "all_files = glob.glob(path + \"/*.csv\")\n",
    "data = []\n",
    "for file in all_files:\n",
    "    char = pd.read_csv(file, header=None)\n",
    "    char = char.fillna(char.mean())\n",
    "    x = char.values.ravel()\n",
    "    data.append(x)\n",
    "df_five = pd.DataFrame(data)\n",
    "df_five['label'] = [5]*1000"
   ]
  },
  {
   "cell_type": "markdown",
   "metadata": {},
   "source": [
    "**Character 6**"
   ]
  },
  {
   "cell_type": "code",
   "execution_count": 19,
   "metadata": {},
   "outputs": [],
   "source": [
    "path = r'C:\\Users\\AYUSH\\Desktop\\Sem 7\\EE4708\\final_project\\Training Dataset\\character_6'# use your path\n",
    "all_files = glob.glob(path + \"/*.csv\")\n",
    "data = []\n",
    "for file in all_files:\n",
    "    char = pd.read_csv(file, header=None)\n",
    "    char = char.fillna(char.mean())\n",
    "    x = char.values.ravel()\n",
    "    data.append(x)\n",
    "df_six = pd.DataFrame(data)\n",
    "df_six['label'] = [6]*1000"
   ]
  },
  {
   "cell_type": "markdown",
   "metadata": {},
   "source": [
    "**Character 7**"
   ]
  },
  {
   "cell_type": "code",
   "execution_count": 20,
   "metadata": {},
   "outputs": [],
   "source": [
    "path = r'C:\\Users\\AYUSH\\Desktop\\Sem 7\\EE4708\\final_project\\Training Dataset\\character_7'# use your path\n",
    "all_files = glob.glob(path + \"/*.csv\")\n",
    "data = []\n",
    "for file in all_files:\n",
    "    char = pd.read_csv(file, header=None)\n",
    "    char = char.fillna(char.mean())\n",
    "    x = char.values.ravel()\n",
    "    data.append(x)\n",
    "df_seven = pd.DataFrame(data)\n",
    "df_seven['label'] = [7]*1000"
   ]
  },
  {
   "cell_type": "markdown",
   "metadata": {},
   "source": [
    "**Character 8**"
   ]
  },
  {
   "cell_type": "code",
   "execution_count": 21,
   "metadata": {},
   "outputs": [],
   "source": [
    "path = r'C:\\Users\\AYUSH\\Desktop\\Sem 7\\EE4708\\final_project\\Training Dataset\\character_8'# use your path\n",
    "all_files = glob.glob(path + \"/*.csv\")\n",
    "data = []\n",
    "for file in all_files:\n",
    "    char = pd.read_csv(file, header=None)\n",
    "    char = char.fillna(char.mean())\n",
    "    x = char.values.ravel()\n",
    "    data.append(x)\n",
    "df_eight = pd.DataFrame(data)\n",
    "df_eight['label'] = [8]*1000"
   ]
  },
  {
   "cell_type": "markdown",
   "metadata": {},
   "source": [
    "**Character 9**"
   ]
  },
  {
   "cell_type": "code",
   "execution_count": 22,
   "metadata": {},
   "outputs": [],
   "source": [
    "path = r'C:\\Users\\AYUSH\\Desktop\\Sem 7\\EE4708\\final_project\\Training Dataset\\character_9'# use your path\n",
    "all_files = glob.glob(path + \"/*.csv\")\n",
    "data = []\n",
    "for file in all_files:\n",
    "    char = pd.read_csv(file, header=None)\n",
    "    char = char.fillna(char.mean())\n",
    "    x = char.values.ravel()\n",
    "    data.append(x)\n",
    "df_nine = pd.DataFrame(data)\n",
    "df_nine['label'] = [9]*1000"
   ]
  },
  {
   "cell_type": "code",
   "execution_count": 23,
   "metadata": {},
   "outputs": [],
   "source": [
    "final_data = pd.concat([df_zero,df_one,df_two,df_three,df_four,df_five,df_six,df_seven,df_eight,df_nine])"
   ]
  },
  {
   "cell_type": "code",
   "execution_count": 24,
   "metadata": {},
   "outputs": [
    {
     "data": {
      "text/html": [
       "<div>\n",
       "<style scoped>\n",
       "    .dataframe tbody tr th:only-of-type {\n",
       "        vertical-align: middle;\n",
       "    }\n",
       "\n",
       "    .dataframe tbody tr th {\n",
       "        vertical-align: top;\n",
       "    }\n",
       "\n",
       "    .dataframe thead th {\n",
       "        text-align: right;\n",
       "    }\n",
       "</style>\n",
       "<table border=\"1\" class=\"dataframe\">\n",
       "  <thead>\n",
       "    <tr style=\"text-align: right;\">\n",
       "      <th></th>\n",
       "      <th>0</th>\n",
       "      <th>1</th>\n",
       "      <th>2</th>\n",
       "      <th>3</th>\n",
       "      <th>4</th>\n",
       "      <th>5</th>\n",
       "      <th>6</th>\n",
       "      <th>7</th>\n",
       "      <th>8</th>\n",
       "      <th>9</th>\n",
       "      <th>...</th>\n",
       "      <th>775</th>\n",
       "      <th>776</th>\n",
       "      <th>777</th>\n",
       "      <th>778</th>\n",
       "      <th>779</th>\n",
       "      <th>780</th>\n",
       "      <th>781</th>\n",
       "      <th>782</th>\n",
       "      <th>783</th>\n",
       "      <th>label</th>\n",
       "    </tr>\n",
       "  </thead>\n",
       "  <tbody>\n",
       "    <tr>\n",
       "      <th>0</th>\n",
       "      <td>25.529412</td>\n",
       "      <td>0.000000</td>\n",
       "      <td>0.000000</td>\n",
       "      <td>0.0</td>\n",
       "      <td>0.000000</td>\n",
       "      <td>0.000000</td>\n",
       "      <td>0.000000</td>\n",
       "      <td>0.0</td>\n",
       "      <td>0.00</td>\n",
       "      <td>0.000000</td>\n",
       "      <td>...</td>\n",
       "      <td>6.0</td>\n",
       "      <td>221.000000</td>\n",
       "      <td>238.000000</td>\n",
       "      <td>20.000000</td>\n",
       "      <td>0.000000</td>\n",
       "      <td>0.0</td>\n",
       "      <td>0.000000</td>\n",
       "      <td>0.000000</td>\n",
       "      <td>43.0</td>\n",
       "      <td>0</td>\n",
       "    </tr>\n",
       "    <tr>\n",
       "      <th>1</th>\n",
       "      <td>55.041667</td>\n",
       "      <td>0.000000</td>\n",
       "      <td>0.000000</td>\n",
       "      <td>0.0</td>\n",
       "      <td>22.347826</td>\n",
       "      <td>0.000000</td>\n",
       "      <td>0.000000</td>\n",
       "      <td>0.0</td>\n",
       "      <td>0.00</td>\n",
       "      <td>0.000000</td>\n",
       "      <td>...</td>\n",
       "      <td>0.0</td>\n",
       "      <td>0.000000</td>\n",
       "      <td>28.772727</td>\n",
       "      <td>20.736842</td>\n",
       "      <td>0.000000</td>\n",
       "      <td>0.0</td>\n",
       "      <td>0.000000</td>\n",
       "      <td>8.318182</td>\n",
       "      <td>0.0</td>\n",
       "      <td>0</td>\n",
       "    </tr>\n",
       "    <tr>\n",
       "      <th>2</th>\n",
       "      <td>0.000000</td>\n",
       "      <td>0.000000</td>\n",
       "      <td>0.000000</td>\n",
       "      <td>0.0</td>\n",
       "      <td>23.695652</td>\n",
       "      <td>0.000000</td>\n",
       "      <td>0.000000</td>\n",
       "      <td>0.0</td>\n",
       "      <td>0.00</td>\n",
       "      <td>20.520000</td>\n",
       "      <td>...</td>\n",
       "      <td>52.0</td>\n",
       "      <td>21.000000</td>\n",
       "      <td>4.000000</td>\n",
       "      <td>103.130435</td>\n",
       "      <td>0.000000</td>\n",
       "      <td>0.0</td>\n",
       "      <td>0.000000</td>\n",
       "      <td>0.000000</td>\n",
       "      <td>0.0</td>\n",
       "      <td>0</td>\n",
       "    </tr>\n",
       "    <tr>\n",
       "      <th>3</th>\n",
       "      <td>0.000000</td>\n",
       "      <td>0.000000</td>\n",
       "      <td>0.000000</td>\n",
       "      <td>0.0</td>\n",
       "      <td>0.000000</td>\n",
       "      <td>0.000000</td>\n",
       "      <td>0.000000</td>\n",
       "      <td>0.0</td>\n",
       "      <td>0.00</td>\n",
       "      <td>0.000000</td>\n",
       "      <td>...</td>\n",
       "      <td>0.0</td>\n",
       "      <td>0.000000</td>\n",
       "      <td>0.000000</td>\n",
       "      <td>0.000000</td>\n",
       "      <td>0.000000</td>\n",
       "      <td>0.0</td>\n",
       "      <td>0.000000</td>\n",
       "      <td>58.894737</td>\n",
       "      <td>0.0</td>\n",
       "      <td>0</td>\n",
       "    </tr>\n",
       "    <tr>\n",
       "      <th>4</th>\n",
       "      <td>0.000000</td>\n",
       "      <td>0.000000</td>\n",
       "      <td>39.400000</td>\n",
       "      <td>0.0</td>\n",
       "      <td>0.000000</td>\n",
       "      <td>0.000000</td>\n",
       "      <td>0.000000</td>\n",
       "      <td>0.0</td>\n",
       "      <td>0.00</td>\n",
       "      <td>20.952381</td>\n",
       "      <td>...</td>\n",
       "      <td>0.0</td>\n",
       "      <td>0.000000</td>\n",
       "      <td>0.000000</td>\n",
       "      <td>0.000000</td>\n",
       "      <td>0.000000</td>\n",
       "      <td>0.0</td>\n",
       "      <td>0.000000</td>\n",
       "      <td>0.000000</td>\n",
       "      <td>0.0</td>\n",
       "      <td>0</td>\n",
       "    </tr>\n",
       "    <tr>\n",
       "      <th>...</th>\n",
       "      <td>...</td>\n",
       "      <td>...</td>\n",
       "      <td>...</td>\n",
       "      <td>...</td>\n",
       "      <td>...</td>\n",
       "      <td>...</td>\n",
       "      <td>...</td>\n",
       "      <td>...</td>\n",
       "      <td>...</td>\n",
       "      <td>...</td>\n",
       "      <td>...</td>\n",
       "      <td>...</td>\n",
       "      <td>...</td>\n",
       "      <td>...</td>\n",
       "      <td>...</td>\n",
       "      <td>...</td>\n",
       "      <td>...</td>\n",
       "      <td>...</td>\n",
       "      <td>...</td>\n",
       "      <td>...</td>\n",
       "      <td>...</td>\n",
       "    </tr>\n",
       "    <tr>\n",
       "      <th>995</th>\n",
       "      <td>0.000000</td>\n",
       "      <td>0.000000</td>\n",
       "      <td>107.777778</td>\n",
       "      <td>0.0</td>\n",
       "      <td>0.000000</td>\n",
       "      <td>0.000000</td>\n",
       "      <td>0.000000</td>\n",
       "      <td>0.0</td>\n",
       "      <td>0.00</td>\n",
       "      <td>0.000000</td>\n",
       "      <td>...</td>\n",
       "      <td>0.0</td>\n",
       "      <td>0.000000</td>\n",
       "      <td>0.000000</td>\n",
       "      <td>0.000000</td>\n",
       "      <td>0.000000</td>\n",
       "      <td>0.0</td>\n",
       "      <td>0.000000</td>\n",
       "      <td>0.000000</td>\n",
       "      <td>0.0</td>\n",
       "      <td>9</td>\n",
       "    </tr>\n",
       "    <tr>\n",
       "      <th>996</th>\n",
       "      <td>0.000000</td>\n",
       "      <td>0.000000</td>\n",
       "      <td>76.125000</td>\n",
       "      <td>0.0</td>\n",
       "      <td>118.304348</td>\n",
       "      <td>0.000000</td>\n",
       "      <td>0.000000</td>\n",
       "      <td>0.0</td>\n",
       "      <td>0.00</td>\n",
       "      <td>0.000000</td>\n",
       "      <td>...</td>\n",
       "      <td>0.0</td>\n",
       "      <td>0.000000</td>\n",
       "      <td>0.000000</td>\n",
       "      <td>0.000000</td>\n",
       "      <td>0.000000</td>\n",
       "      <td>0.0</td>\n",
       "      <td>0.000000</td>\n",
       "      <td>0.000000</td>\n",
       "      <td>0.0</td>\n",
       "      <td>9</td>\n",
       "    </tr>\n",
       "    <tr>\n",
       "      <th>997</th>\n",
       "      <td>0.000000</td>\n",
       "      <td>29.352941</td>\n",
       "      <td>0.000000</td>\n",
       "      <td>1.0</td>\n",
       "      <td>57.000000</td>\n",
       "      <td>59.045455</td>\n",
       "      <td>89.583333</td>\n",
       "      <td>63.0</td>\n",
       "      <td>59.00</td>\n",
       "      <td>56.000000</td>\n",
       "      <td>...</td>\n",
       "      <td>0.0</td>\n",
       "      <td>59.478261</td>\n",
       "      <td>0.000000</td>\n",
       "      <td>0.000000</td>\n",
       "      <td>0.000000</td>\n",
       "      <td>0.0</td>\n",
       "      <td>28.722222</td>\n",
       "      <td>0.000000</td>\n",
       "      <td>0.0</td>\n",
       "      <td>9</td>\n",
       "    </tr>\n",
       "    <tr>\n",
       "      <th>998</th>\n",
       "      <td>32.000000</td>\n",
       "      <td>54.388889</td>\n",
       "      <td>0.000000</td>\n",
       "      <td>0.0</td>\n",
       "      <td>0.000000</td>\n",
       "      <td>2.000000</td>\n",
       "      <td>1.000000</td>\n",
       "      <td>10.0</td>\n",
       "      <td>116.56</td>\n",
       "      <td>167.000000</td>\n",
       "      <td>...</td>\n",
       "      <td>10.0</td>\n",
       "      <td>3.000000</td>\n",
       "      <td>144.263158</td>\n",
       "      <td>0.000000</td>\n",
       "      <td>0.000000</td>\n",
       "      <td>0.0</td>\n",
       "      <td>0.000000</td>\n",
       "      <td>0.000000</td>\n",
       "      <td>0.0</td>\n",
       "      <td>9</td>\n",
       "    </tr>\n",
       "    <tr>\n",
       "      <th>999</th>\n",
       "      <td>0.000000</td>\n",
       "      <td>0.000000</td>\n",
       "      <td>2.000000</td>\n",
       "      <td>16.0</td>\n",
       "      <td>15.000000</td>\n",
       "      <td>14.000000</td>\n",
       "      <td>171.315789</td>\n",
       "      <td>63.0</td>\n",
       "      <td>181.75</td>\n",
       "      <td>63.000000</td>\n",
       "      <td>...</td>\n",
       "      <td>0.0</td>\n",
       "      <td>0.000000</td>\n",
       "      <td>0.000000</td>\n",
       "      <td>0.000000</td>\n",
       "      <td>34.615385</td>\n",
       "      <td>0.0</td>\n",
       "      <td>0.000000</td>\n",
       "      <td>20.750000</td>\n",
       "      <td>0.0</td>\n",
       "      <td>9</td>\n",
       "    </tr>\n",
       "  </tbody>\n",
       "</table>\n",
       "<p>10000 rows × 785 columns</p>\n",
       "</div>"
      ],
      "text/plain": [
       "             0          1           2     3           4          5  \\\n",
       "0    25.529412   0.000000    0.000000   0.0    0.000000   0.000000   \n",
       "1    55.041667   0.000000    0.000000   0.0   22.347826   0.000000   \n",
       "2     0.000000   0.000000    0.000000   0.0   23.695652   0.000000   \n",
       "3     0.000000   0.000000    0.000000   0.0    0.000000   0.000000   \n",
       "4     0.000000   0.000000   39.400000   0.0    0.000000   0.000000   \n",
       "..         ...        ...         ...   ...         ...        ...   \n",
       "995   0.000000   0.000000  107.777778   0.0    0.000000   0.000000   \n",
       "996   0.000000   0.000000   76.125000   0.0  118.304348   0.000000   \n",
       "997   0.000000  29.352941    0.000000   1.0   57.000000  59.045455   \n",
       "998  32.000000  54.388889    0.000000   0.0    0.000000   2.000000   \n",
       "999   0.000000   0.000000    2.000000  16.0   15.000000  14.000000   \n",
       "\n",
       "              6     7       8           9  ...   775         776         777  \\\n",
       "0      0.000000   0.0    0.00    0.000000  ...   6.0  221.000000  238.000000   \n",
       "1      0.000000   0.0    0.00    0.000000  ...   0.0    0.000000   28.772727   \n",
       "2      0.000000   0.0    0.00   20.520000  ...  52.0   21.000000    4.000000   \n",
       "3      0.000000   0.0    0.00    0.000000  ...   0.0    0.000000    0.000000   \n",
       "4      0.000000   0.0    0.00   20.952381  ...   0.0    0.000000    0.000000   \n",
       "..          ...   ...     ...         ...  ...   ...         ...         ...   \n",
       "995    0.000000   0.0    0.00    0.000000  ...   0.0    0.000000    0.000000   \n",
       "996    0.000000   0.0    0.00    0.000000  ...   0.0    0.000000    0.000000   \n",
       "997   89.583333  63.0   59.00   56.000000  ...   0.0   59.478261    0.000000   \n",
       "998    1.000000  10.0  116.56  167.000000  ...  10.0    3.000000  144.263158   \n",
       "999  171.315789  63.0  181.75   63.000000  ...   0.0    0.000000    0.000000   \n",
       "\n",
       "            778        779  780        781        782   783  label  \n",
       "0     20.000000   0.000000  0.0   0.000000   0.000000  43.0      0  \n",
       "1     20.736842   0.000000  0.0   0.000000   8.318182   0.0      0  \n",
       "2    103.130435   0.000000  0.0   0.000000   0.000000   0.0      0  \n",
       "3      0.000000   0.000000  0.0   0.000000  58.894737   0.0      0  \n",
       "4      0.000000   0.000000  0.0   0.000000   0.000000   0.0      0  \n",
       "..          ...        ...  ...        ...        ...   ...    ...  \n",
       "995    0.000000   0.000000  0.0   0.000000   0.000000   0.0      9  \n",
       "996    0.000000   0.000000  0.0   0.000000   0.000000   0.0      9  \n",
       "997    0.000000   0.000000  0.0  28.722222   0.000000   0.0      9  \n",
       "998    0.000000   0.000000  0.0   0.000000   0.000000   0.0      9  \n",
       "999    0.000000  34.615385  0.0   0.000000  20.750000   0.0      9  \n",
       "\n",
       "[10000 rows x 785 columns]"
      ]
     },
     "execution_count": 24,
     "metadata": {},
     "output_type": "execute_result"
    }
   ],
   "source": [
    "final_data"
   ]
  }
 ],
 "metadata": {
  "kernelspec": {
   "display_name": "Python 3",
   "language": "python",
   "name": "python3"
  },
  "language_info": {
   "codemirror_mode": {
    "name": "ipython",
    "version": 3
   },
   "file_extension": ".py",
   "mimetype": "text/x-python",
   "name": "python",
   "nbconvert_exporter": "python",
   "pygments_lexer": "ipython3",
   "version": "3.7.6"
  }
 },
 "nbformat": 4,
 "nbformat_minor": 4
}
